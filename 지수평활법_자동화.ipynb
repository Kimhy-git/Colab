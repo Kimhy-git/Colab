{
  "nbformat": 4,
  "nbformat_minor": 0,
  "metadata": {
    "colab": {
      "name": "지수평활법 자동화.ipynb",
      "provenance": [],
      "collapsed_sections": [
        "AkdIM6oD0Fbi"
      ],
      "mount_file_id": "1fnSu8MhQiVBwCGsDyCM8xkeZqjHNBP9B",
      "authorship_tag": "ABX9TyMEgsS/HP7SQbdL1mWLOvVd",
      "include_colab_link": true
    },
    "kernelspec": {
      "name": "python3",
      "display_name": "Python 3"
    },
    "language_info": {
      "name": "python"
    }
  },
  "cells": [
    {
      "cell_type": "markdown",
      "metadata": {
        "id": "view-in-github",
        "colab_type": "text"
      },
      "source": [
        "<a href=\"https://colab.research.google.com/github/Kimhy-git/Colab/blob/main/%EC%A7%80%EC%88%98%ED%8F%89%ED%99%9C%EB%B2%95_%EC%9E%90%EB%8F%99%ED%99%94.ipynb\" target=\"_parent\"><img src=\"https://colab.research.google.com/assets/colab-badge.svg\" alt=\"Open In Colab\"/></a>"
      ]
    },
    {
      "cell_type": "markdown",
      "source": [
        "###함수"
      ],
      "metadata": {
        "id": "AkdIM6oD0Fbi"
      }
    },
    {
      "cell_type": "code",
      "execution_count": 69,
      "metadata": {
        "id": "bLKPzIbCmUEE"
      },
      "outputs": [],
      "source": [
        "# double or triple exponential smoothing\n",
        "from statsmodels.tsa.holtwinters import ExponentialSmoothing\n",
        "from sklearn.metrics import mean_squared_error\n",
        "from sklearn.linear_model import LinearRegression\n",
        "from matplotlib import pyplot as plt\n",
        "import pandas as pd\n",
        "import numpy as np\n",
        "import ast"
      ]
    },
    {
      "cell_type": "code",
      "source": [
        "# create class\n",
        "def create_class(train, test, config):\n",
        "  t,s,p,br,b,r = config\n",
        "  model = ExponentialSmoothing(train, trend=t, seasonal=s, seasonal_periods=p)\n",
        "  model_fit = model.fit(optimized=True, use_brute=br, use_boxcox=b, remove_bias=r)\n",
        "  # make prediction\n",
        "  start = test.index.to_pydatetime()[0]\n",
        "  end = test.index.to_pydatetime()[12]\n",
        "  predict = model_fit.predict(start=start, end=end)\n",
        "  return predict\n",
        "\n",
        "\n",
        "# read file\n",
        "def read_file(file_name):\n",
        "  data_path = '/content/drive/MyDrive/ColabNotebooks/prediction/ExponentialSmoothing/' + file_name + '.csv'\n",
        "  data = pd.read_csv(data_path)\n",
        "  data.set_index('date', inplace=True)\n",
        "  data.index = pd.to_datetime(data.index)\n",
        "\n",
        "  data['increase'] = data['increase'] + 10\n",
        "  data['increase'] = np.log(data['increase'])\n",
        "\n",
        "  # train data와 validation data 나누기\n",
        "  train = data[data.index <= '2021-03']\n",
        "  test = data[data.index > '2021-03']\n",
        "\n",
        "  return [train, test]"
      ],
      "metadata": {
        "id": "7McT-VzdmbWr"
      },
      "execution_count": 70,
      "outputs": []
    },
    {
      "cell_type": "code",
      "source": [
        "def model_evaluation(test, predict, graph):\n",
        "  # test\n",
        "  test_sns = test.reset_index()\n",
        "  test_sns.columns = ['date', 'increase']\n",
        "\n",
        "  x = test_sns.index\n",
        "  y = test_sns['increase']\n",
        "\n",
        "  line_fitter = LinearRegression()\n",
        "  line_fitter.fit(x.values.reshape(-1,1), y)\n",
        "\n",
        "  test_line = line_fitter.predict(x.values.reshape(-1,1))\n",
        "  \n",
        "  # predict\n",
        "  pre_sns = predict.reset_index()\n",
        "  pre_sns.columns = ['date', 'increase']\n",
        "\n",
        "  a = pre_sns.index\n",
        "  b = pre_sns['increase']\n",
        "\n",
        "  line_fitter2 = LinearRegression()\n",
        "  line_fitter2.fit(a.values.reshape(-1,1), b)\n",
        "\n",
        "  pre_line = line_fitter2.predict(a.values.reshape(-1,1))\n",
        "\n",
        "  # 가중치\n",
        "  test_weight = line_fitter.coef_\n",
        "  pre_weight = line_fitter2.coef_\n",
        "\n",
        "  if graph is True:\n",
        "    plt.plot(a, b , 'o')\n",
        "    plt.plot(x, y , 'o')\n",
        "    plt.plot(a, pre_line)\n",
        "    plt.plot(x, test_line)\n",
        "    plt.show()\n",
        "    \n",
        "  weight_accuracy = abs(abs(test_weight) - abs(pre_weight))[0]\n",
        "  # print('가중치의 차이값:', weight_accuracy)\n",
        "  return weight_accuracy"
      ],
      "metadata": {
        "id": "PFUwljNpmhzT"
      },
      "execution_count": 71,
      "outputs": []
    },
    {
      "cell_type": "code",
      "source": [
        "def exp_smoothing_configs():\n",
        "  models = list()\n",
        "  # define config lists\n",
        "  t_params = ['add', 'mul', None]\n",
        "  s_params = ['add', 'mul', None]\n",
        "  p_params = [12]\n",
        "  br_params = [True, False]\n",
        "  b_params = [True, False]\n",
        "  r_params = [True, False]\n",
        "\n",
        "  # create config instances\n",
        "  for t in t_params:\n",
        "    for s in s_params:\n",
        "      for p in p_params:\n",
        "        for br in br_params:\n",
        "          for b in b_params:\n",
        "            for r in r_params:\n",
        "              cfg = [t,s,p,br,b,r]\n",
        "              models.append(cfg)\n",
        "\n",
        "  return models"
      ],
      "metadata": {
        "id": "09euH59HnkVW"
      },
      "execution_count": 72,
      "outputs": []
    },
    {
      "cell_type": "code",
      "source": [
        "def walk_forward_validation(train, test, config):\n",
        "  # print('walk_forward_validation')\n",
        "  predict = create_class(train, test, config)\n",
        "  return model_evaluation(test, predict, False)"
      ],
      "metadata": {
        "id": "ca2LZbA6sbR4"
      },
      "execution_count": 73,
      "outputs": []
    },
    {
      "cell_type": "code",
      "source": [
        "from multiprocessing import cpu_count\n",
        "from joblib import Parallel\n",
        "from joblib import delayed\n",
        "from warnings import catch_warnings\n",
        "from warnings import filterwarnings"
      ],
      "metadata": {
        "id": "UmqAZTgFtMTl"
      },
      "execution_count": 74,
      "outputs": []
    },
    {
      "cell_type": "code",
      "source": [
        "# score a model, return None on failure\n",
        "def score_model(train, test, cfg, debug=False):\n",
        "  # print('start score_model')\n",
        "  result = None\n",
        "  # convert config to a key\n",
        "  key = str(cfg)\n",
        "  # show all warnings and fail on exception if debugging\n",
        "  if debug:\n",
        "    result = walk_forward_validation(train, test, cfg)\n",
        "  else:\n",
        "    # one failure during model validation suggests an unstable config\n",
        "    try:\n",
        "      # never show warnings when grid searching, too noisy\n",
        "      with catch_warnings():\n",
        "        filterwarnings(\"ignore\")\n",
        "        result = walk_forward_validation(train, test, cfg)\n",
        "    except:\n",
        "      error = None\n",
        "  # check for an interesting result\n",
        "  # if result is not None:\n",
        "    # print(' > Model[%s] %.3f' % (key, result))\n",
        "  return (key, result)\n",
        "\n",
        "\n",
        "# grid search configs\n",
        "def grid_search(train, test, cfg_list, parallel=True):\n",
        "  # print('start grid_search')\n",
        "  scores = None\n",
        "  if parallel:\n",
        "    # execute configs in parallel\n",
        "    executor = Parallel(n_jobs=cpu_count(), backend='multiprocessing')\n",
        "    tasks = (delayed(score_model)(train, test, cfg) for cfg in cfg_list)\n",
        "    scores = executor(tasks)\n",
        "  else:\n",
        "    scores = [score_model(train, test, cfg) for cfg in cfg_list]\n",
        "  # remove empty results\n",
        "  scores = [r for r in scores if r[1] != None]\n",
        "  # sort configs by error, asc\n",
        "  scores.sort(key=lambda tup: tup[1])\n",
        "  return scores"
      ],
      "metadata": {
        "id": "NuF_zbyhrGmU"
      },
      "execution_count": 75,
      "outputs": []
    },
    {
      "cell_type": "markdown",
      "source": [
        "###실행"
      ],
      "metadata": {
        "id": "2p7MN1rB0LJT"
      }
    },
    {
      "cell_type": "code",
      "source": [
        "# 파일 불러오기\n",
        "file_name = 'trade_test_010_exist'\n",
        "train, test = read_file(file_name)"
      ],
      "metadata": {
        "id": "EqeT8wlYniKU"
      },
      "execution_count": 80,
      "outputs": []
    },
    {
      "cell_type": "code",
      "source": [
        "# model configs\n",
        "cfg_list = exp_smoothing_configs()\n",
        "print('cfg_list')\n",
        "print(cfg_list)\n",
        "# grid search\n",
        "scores = grid_search(train, test, cfg_list)\n",
        "print('done')\n",
        "# list top 3 configs\n",
        "config = list()\n",
        "for cfg, error in scores[:1]:\n",
        "  print(cfg, error)\n",
        "  config = cfg"
      ],
      "metadata": {
        "colab": {
          "base_uri": "https://localhost:8080/"
        },
        "id": "02QVLB_3t7KO",
        "outputId": "2f452b9e-641e-40ef-a898-10137489278b"
      },
      "execution_count": 81,
      "outputs": [
        {
          "output_type": "stream",
          "name": "stdout",
          "text": [
            "cfg_list\n",
            "[['add', 'add', 12, True, True, True], ['add', 'add', 12, True, True, False], ['add', 'add', 12, True, False, True], ['add', 'add', 12, True, False, False], ['add', 'add', 12, False, True, True], ['add', 'add', 12, False, True, False], ['add', 'add', 12, False, False, True], ['add', 'add', 12, False, False, False], ['add', 'mul', 12, True, True, True], ['add', 'mul', 12, True, True, False], ['add', 'mul', 12, True, False, True], ['add', 'mul', 12, True, False, False], ['add', 'mul', 12, False, True, True], ['add', 'mul', 12, False, True, False], ['add', 'mul', 12, False, False, True], ['add', 'mul', 12, False, False, False], ['add', None, 12, True, True, True], ['add', None, 12, True, True, False], ['add', None, 12, True, False, True], ['add', None, 12, True, False, False], ['add', None, 12, False, True, True], ['add', None, 12, False, True, False], ['add', None, 12, False, False, True], ['add', None, 12, False, False, False], ['mul', 'add', 12, True, True, True], ['mul', 'add', 12, True, True, False], ['mul', 'add', 12, True, False, True], ['mul', 'add', 12, True, False, False], ['mul', 'add', 12, False, True, True], ['mul', 'add', 12, False, True, False], ['mul', 'add', 12, False, False, True], ['mul', 'add', 12, False, False, False], ['mul', 'mul', 12, True, True, True], ['mul', 'mul', 12, True, True, False], ['mul', 'mul', 12, True, False, True], ['mul', 'mul', 12, True, False, False], ['mul', 'mul', 12, False, True, True], ['mul', 'mul', 12, False, True, False], ['mul', 'mul', 12, False, False, True], ['mul', 'mul', 12, False, False, False], ['mul', None, 12, True, True, True], ['mul', None, 12, True, True, False], ['mul', None, 12, True, False, True], ['mul', None, 12, True, False, False], ['mul', None, 12, False, True, True], ['mul', None, 12, False, True, False], ['mul', None, 12, False, False, True], ['mul', None, 12, False, False, False], [None, 'add', 12, True, True, True], [None, 'add', 12, True, True, False], [None, 'add', 12, True, False, True], [None, 'add', 12, True, False, False], [None, 'add', 12, False, True, True], [None, 'add', 12, False, True, False], [None, 'add', 12, False, False, True], [None, 'add', 12, False, False, False], [None, 'mul', 12, True, True, True], [None, 'mul', 12, True, True, False], [None, 'mul', 12, True, False, True], [None, 'mul', 12, True, False, False], [None, 'mul', 12, False, True, True], [None, 'mul', 12, False, True, False], [None, 'mul', 12, False, False, True], [None, 'mul', 12, False, False, False], [None, None, 12, True, True, True], [None, None, 12, True, True, False], [None, None, 12, True, False, True], [None, None, 12, True, False, False], [None, None, 12, False, True, True], [None, None, 12, False, True, False], [None, None, 12, False, False, True], [None, None, 12, False, False, False]]\n",
            "done\n",
            "['mul', None, 12, True, True, True] 0.003972395985220433\n"
          ]
        }
      ]
    },
    {
      "cell_type": "code",
      "source": [
        "config = ast.literal_eval(config)\n",
        "print(config)"
      ],
      "metadata": {
        "colab": {
          "base_uri": "https://localhost:8080/"
        },
        "id": "UR4_2BVzycAK",
        "outputId": "192f815a-b444-4f6f-b523-a691539330ea"
      },
      "execution_count": 82,
      "outputs": [
        {
          "output_type": "stream",
          "name": "stdout",
          "text": [
            "['mul', None, 12, True, True, True]\n"
          ]
        }
      ]
    },
    {
      "cell_type": "code",
      "source": [
        "predict = create_class(train, test, config)\n",
        "\n",
        "weight_accuracy = model_evaluation(test, predict, True)\n",
        "print('기울기의 차이값:', weight_accuracy)"
      ],
      "metadata": {
        "colab": {
          "base_uri": "https://localhost:8080/",
          "height": 324
        },
        "id": "6ySj5YKgxzEP",
        "outputId": "9f2c1735-79fe-45fd-80a8-2bcd16678820"
      },
      "execution_count": 83,
      "outputs": [
        {
          "output_type": "stream",
          "name": "stderr",
          "text": [
            "/usr/local/lib/python3.7/dist-packages/statsmodels/tsa/base/tsa_model.py:165: ValueWarning: No frequency information was provided, so inferred frequency MS will be used.\n",
            "  % freq, ValueWarning)\n"
          ]
        },
        {
          "output_type": "display_data",
          "data": {
            "text/plain": [
              "<Figure size 432x288 with 1 Axes>"
            ],
            "image/png": "[encoded data removed]"
          },
          "metadata": {
            "needs_background": "light"
          }
        },
        {
          "output_type": "stream",
          "name": "stdout",
          "text": [
            "기울기의 차이값: 0.003972395985220433\n"
          ]
        }
      ]
    }
  ]
}